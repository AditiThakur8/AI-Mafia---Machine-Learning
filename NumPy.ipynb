{
 "cells": [
  {
   "cell_type": "code",
   "execution_count": 2,
   "id": "6aa619e0-d2f6-4926-878c-7553196101c5",
   "metadata": {},
   "outputs": [
    {
     "name": "stdout",
     "output_type": "stream",
     "text": [
      "Defaulting to user installation because normal site-packages is not writeable\n",
      "Requirement already satisfied: numpy in c:\\programdata\\anaconda3\\lib\\site-packages (1.26.4)\n"
     ]
    }
   ],
   "source": [
    "!pip3 install numpy"
   ]
  },
  {
   "cell_type": "markdown",
   "id": "a75b9e3b-bd2b-4183-9436-7178e0238115",
   "metadata": {},
   "source": [
    "# We are going to learn numpy now!\n"
   ]
  },
  {
   "cell_type": "code",
   "execution_count": 3,
   "id": "5d43535a-c72d-43b5-b42a-e7ce69ba3eda",
   "metadata": {},
   "outputs": [
    {
     "name": "stdout",
     "output_type": "stream",
     "text": [
      "Defaulting to user installation because normal site-packages is not writeable\n",
      "Requirement already satisfied: numpy in c:\\programdata\\anaconda3\\lib\\site-packages (1.26.4)\n"
     ]
    }
   ],
   "source": [
    "!pip3 install numpy"
   ]
  },
  {
   "cell_type": "code",
   "execution_count": 2,
   "id": "26b22cf7-2360-42cd-91f2-b6ec03bef8f9",
   "metadata": {},
   "outputs": [],
   "source": [
    "import numpy as np"
   ]
  },
  {
   "cell_type": "code",
   "execution_count": 5,
   "id": "2bc863d5-6e62-4f31-a307-0cc8ff3c776f",
   "metadata": {},
   "outputs": [],
   "source": [
    "arr = np.array([[1,2,3],[4,2,5]])"
   ]
  },
  {
   "cell_type": "code",
   "execution_count": 6,
   "id": "63c8b3c1-2ebb-4600-aa71-228760ecd5b9",
   "metadata": {},
   "outputs": [
    {
     "data": {
      "text/plain": [
       "numpy.ndarray"
      ]
     },
     "execution_count": 6,
     "metadata": {},
     "output_type": "execute_result"
    }
   ],
   "source": [
    "type(arr)"
   ]
  },
  {
   "cell_type": "code",
   "execution_count": 8,
   "id": "cc91b701-479b-4f69-93d6-4cf106bf2456",
   "metadata": {},
   "outputs": [
    {
     "name": "stdout",
     "output_type": "stream",
     "text": [
      "dimensions: 2\n",
      "shape: (2, 3)\n",
      "size: 6\n",
      "array stores elements of type: int32\n"
     ]
    }
   ],
   "source": [
    "#printing no. of dimensions in an array\n",
    "print(\"dimensions:\", arr.ndim)\n",
    "\n",
    "#printing shape of array\n",
    "print(\"shape:\",arr.shape)\n",
    "\n",
    "#size of array\n",
    "print(\"size:\",arr.size)\n",
    "\n",
    "#print type of elements in array\n",
    "print(\"array stores elements of type:\",arr.dtype)\n",
    "\n",
    "\n"
   ]
  },
  {
   "cell_type": "markdown",
   "id": "77e91231-2b47-4326-ab49-0f0b01dcff50",
   "metadata": {},
   "source": [
    "# Ways of creating array"
   ]
  },
  {
   "cell_type": "code",
   "execution_count": 8,
   "id": "7d6e79b1-1d14-45d6-9ca4-edb9d050251e",
   "metadata": {},
   "outputs": [
    {
     "name": "stdout",
     "output_type": "stream",
     "text": [
      "Array created using passed list:\n",
      " [[1. 3. 4.]\n",
      " [5. 6. 7.]]\n",
      "\n",
      "Array created using passed tuple:\n",
      " [1 3 2]\n",
      "\n",
      "Array insitialized with all zeros:\n",
      " [[0. 0. 0. 0.]\n",
      " [0. 0. 0. 0.]\n",
      " [0. 0. 0. 0.]]\n",
      "\n",
      "An array initialised with all 6s.Array type is complex:\n",
      " [[6.+0.j 6.+0.j 6.+0.j]\n",
      " [6.+0.j 6.+0.j 6.+0.j]\n",
      " [6.+0.j 6.+0.j 6.+0.j]]\n",
      "\n",
      "A random array:\n",
      " [[0.52616776 0.56495771]\n",
      " [0.29618924 0.35444889]]\n"
     ]
    }
   ],
   "source": [
    "#creating array from list with type float\n",
    "a = np.array([[1,3,4],[5,6,7]],dtype = 'float')\n",
    "print(\"Array created using passed list:\\n\",a)\n",
    "\n",
    "#creating array from tuple\n",
    "b = np.array((1,3,2))\n",
    "print(\"\\nArray created using passed tuple:\\n\",b)\n",
    "\n",
    "#creating a 3X4 array with all zeros\n",
    "c = np.zeros((3,4))\n",
    "print(\"\\nArray insitialized with all zeros:\\n\",c)\n",
    "\n",
    "#creating a constant value array of complex type\n",
    "d = np.full((3,3),6, dtype = 'complex')\n",
    "print(\"\\nAn array initialised with all 6s.Array type is complex:\\n\",d)\n",
    "\n",
    "#creating array with random value\n",
    "e = np.random.random((2,2))\n",
    "print(\"\\nA random array:\\n\",e)\n"
   ]
  },
  {
   "cell_type": "code",
   "execution_count": 5,
   "id": "378be722-b77a-47c3-af65-c8a35091b746",
   "metadata": {},
   "outputs": [
    {
     "data": {
      "text/plain": [
       "array([[1., 0., 0.],\n",
       "       [0., 1., 0.],\n",
       "       [0., 0., 1.]])"
      ]
     },
     "execution_count": 5,
     "metadata": {},
     "output_type": "execute_result"
    }
   ],
   "source": [
    "#identity matrix 3X3\n",
    "np.eye(3)"
   ]
  },
  {
   "cell_type": "code",
   "execution_count": 6,
   "id": "ff369345-47f9-42f8-9087-97255878b110",
   "metadata": {},
   "outputs": [
    {
     "data": {
      "text/plain": [
       "\u001b[1;31mDocstring:\u001b[0m\n",
       "arange([start,] stop[, step,], dtype=None, *, like=None)\n",
       "\n",
       "Return evenly spaced values within a given interval.\n",
       "\n",
       "``arange`` can be called with a varying number of positional arguments:\n",
       "\n",
       "* ``arange(stop)``: Values are generated within the half-open interval\n",
       "  ``[0, stop)`` (in other words, the interval including `start` but\n",
       "  excluding `stop`).\n",
       "* ``arange(start, stop)``: Values are generated within the half-open\n",
       "  interval ``[start, stop)``.\n",
       "* ``arange(start, stop, step)`` Values are generated within the half-open\n",
       "  interval ``[start, stop)``, with spacing between values given by\n",
       "  ``step``.\n",
       "\n",
       "For integer arguments the function is roughly equivalent to the Python\n",
       "built-in :py:class:`range`, but returns an ndarray rather than a ``range``\n",
       "instance.\n",
       "\n",
       "When using a non-integer step, such as 0.1, it is often better to use\n",
       "`numpy.linspace`.\n",
       "\n",
       "See the Warning sections below for more information.\n",
       "\n",
       "Parameters\n",
       "----------\n",
       "start : integer or real, optional\n",
       "    Start of interval.  The interval includes this value.  The default\n",
       "    start value is 0.\n",
       "stop : integer or real\n",
       "    End of interval.  The interval does not include this value, except\n",
       "    in some cases where `step` is not an integer and floating point\n",
       "    round-off affects the length of `out`.\n",
       "step : integer or real, optional\n",
       "    Spacing between values.  For any output `out`, this is the distance\n",
       "    between two adjacent values, ``out[i+1] - out[i]``.  The default\n",
       "    step size is 1.  If `step` is specified as a position argument,\n",
       "    `start` must also be given.\n",
       "dtype : dtype, optional\n",
       "    The type of the output array.  If `dtype` is not given, infer the data\n",
       "    type from the other input arguments.\n",
       "like : array_like, optional\n",
       "    Reference object to allow the creation of arrays which are not\n",
       "    NumPy arrays. If an array-like passed in as ``like`` supports\n",
       "    the ``__array_function__`` protocol, the result will be defined\n",
       "    by it. In this case, it ensures the creation of an array object\n",
       "    compatible with that passed in via this argument.\n",
       "\n",
       "    .. versionadded:: 1.20.0\n",
       "\n",
       "Returns\n",
       "-------\n",
       "arange : ndarray\n",
       "    Array of evenly spaced values.\n",
       "\n",
       "    For floating point arguments, the length of the result is\n",
       "    ``ceil((stop - start)/step)``.  Because of floating point overflow,\n",
       "    this rule may result in the last element of `out` being greater\n",
       "    than `stop`.\n",
       "\n",
       "Warnings\n",
       "--------\n",
       "The length of the output might not be numerically stable.\n",
       "\n",
       "Another stability issue is due to the internal implementation of\n",
       "`numpy.arange`.\n",
       "The actual step value used to populate the array is\n",
       "``dtype(start + step) - dtype(start)`` and not `step`. Precision loss\n",
       "can occur here, due to casting or due to using floating points when\n",
       "`start` is much larger than `step`. This can lead to unexpected\n",
       "behaviour. For example::\n",
       "\n",
       "  >>> np.arange(0, 5, 0.5, dtype=int)\n",
       "  array([0, 0, 0, 0, 0, 0, 0, 0, 0, 0])\n",
       "  >>> np.arange(-3, 3, 0.5, dtype=int)\n",
       "  array([-3, -2, -1,  0,  1,  2,  3,  4,  5,  6,  7,  8])\n",
       "\n",
       "In such cases, the use of `numpy.linspace` should be preferred.\n",
       "\n",
       "The built-in :py:class:`range` generates :std:doc:`Python built-in integers\n",
       "that have arbitrary size <python:c-api/long>`, while `numpy.arange`\n",
       "produces `numpy.int32` or `numpy.int64` numbers. This may result in\n",
       "incorrect results for large integer values::\n",
       "\n",
       "  >>> power = 40\n",
       "  >>> modulo = 10000\n",
       "  >>> x1 = [(n ** power) % modulo for n in range(8)]\n",
       "  >>> x2 = [(n ** power) % modulo for n in np.arange(8)]\n",
       "  >>> print(x1)\n",
       "  [0, 1, 7776, 8801, 6176, 625, 6576, 4001]  # correct\n",
       "  >>> print(x2)\n",
       "  [0, 1, 7776, 7185, 0, 5969, 4816, 3361]  # incorrect\n",
       "\n",
       "See Also\n",
       "--------\n",
       "numpy.linspace : Evenly spaced numbers with careful handling of endpoints.\n",
       "numpy.ogrid: Arrays of evenly spaced numbers in N-dimensions.\n",
       "numpy.mgrid: Grid-shaped arrays of evenly spaced numbers in N-dimensions.\n",
       ":ref:`how-to-partition`\n",
       "\n",
       "Examples\n",
       "--------\n",
       ">>> np.arange(3)\n",
       "array([0, 1, 2])\n",
       ">>> np.arange(3.0)\n",
       "array([ 0.,  1.,  2.])\n",
       ">>> np.arange(3,7)\n",
       "array([3, 4, 5, 6])\n",
       ">>> np.arange(3,7,2)\n",
       "array([3, 5])\n",
       "\u001b[1;31mType:\u001b[0m      builtin_function_or_method"
      ]
     },
     "metadata": {},
     "output_type": "display_data"
    }
   ],
   "source": [
    "np.arange?"
   ]
  },
  {
   "cell_type": "code",
   "execution_count": 7,
   "id": "36be5b4d-655a-45af-8ac6-3622271eaee9",
   "metadata": {},
   "outputs": [
    {
     "name": "stdout",
     "output_type": "stream",
     "text": [
      "\n",
      "A sequential array with steps of 5:\n",
      " [ 0  5 10 15 20 25]\n",
      "nA sequential array with 10 values between 0 and 5:\n",
      " [0.         0.55555556 1.11111111 1.66666667 2.22222222 2.77777778\n",
      " 3.33333333 3.88888889 4.44444444 5.        ]\n"
     ]
    }
   ],
   "source": [
    "#creating sequence of integers from 0 to 30 with step of 5\n",
    "f = np.arange(0,30,5)\n",
    "print(\"\\nA sequential array with steps of 5:\\n\", f)\n",
    "\n",
    "#creating a sequence of 10 value in range 0 to 5\n",
    "g = np.linspace(0,5,10)\n",
    "print(\"nA sequential array with 10 values between 0 and 5:\\n\", g)"
   ]
  },
  {
   "cell_type": "code",
   "execution_count": 13,
   "id": "142b771d-ecbb-4cb4-8925-23e25b4f0936",
   "metadata": {},
   "outputs": [
    {
     "name": "stdout",
     "output_type": "stream",
     "text": [
      "original array:\n",
      " [[1 2 3 4]\n",
      " [5 3 4 2]\n",
      " [2 7 8 9]]\n",
      "reshaped array:\n",
      " [[[1 2 3]\n",
      "  [4 5 3]]\n",
      "\n",
      " [[4 2 2]\n",
      "  [7 8 9]]]\n"
     ]
    }
   ],
   "source": [
    "#reshaping array 3X4 array to 2X2X3 array\n",
    "arr = np.array([[1,2,3,4],\n",
    "                [5,3,4,2],\n",
    "                [2,7,8,9]])\n",
    "newarr = arr.reshape(2,2,3)\n",
    "print(\"original array:\\n\",arr)\n",
    "print(\"reshaped array:\\n\",newarr)"
   ]
  },
  {
   "cell_type": "code",
   "execution_count": 14,
   "id": "00842866-c9e6-4824-ba6d-db7938c941e5",
   "metadata": {},
   "outputs": [
    {
     "name": "stdout",
     "output_type": "stream",
     "text": [
      "original array:\n",
      " [[1 2 3]\n",
      " [4 5 6]]\n",
      "flattened array:\n",
      " [1 2 3 4 5 6]\n"
     ]
    }
   ],
   "source": [
    "#flatten entire array into a single object\n",
    "arr = np.array([[1,2,3],[4,5,6]])\n",
    "flat = arr.flatten()\n",
    "print(\"original array:\\n\",arr)\n",
    "print(\"flattened array:\\n\",flat)"
   ]
  },
  {
   "cell_type": "markdown",
   "id": "56b9e787-1a68-4f95-b98a-aaa7d97506bb",
   "metadata": {},
   "source": [
    "# Array Indexing\n"
   ]
  },
  {
   "cell_type": "code",
   "execution_count": 15,
   "id": "83312ab6-d967-40d7-a4b6-9ec05a30c4f2",
   "metadata": {},
   "outputs": [],
   "source": [
    "arr = np.array([[-1,2,3,4],\n",
    "                [4,-.5,6,0],\n",
    "                [2.6,0.,6.,0.],\n",
    "                [3.,-7,4.,2.]])"
   ]
  },
  {
   "cell_type": "code",
   "execution_count": 17,
   "id": "19152365-add0-43ee-8f67-ba7a43298faa",
   "metadata": {},
   "outputs": [
    {
     "data": {
      "text/plain": [
       "array([[4., 6.],\n",
       "       [3., 4.]])"
      ]
     },
     "execution_count": 17,
     "metadata": {},
     "output_type": "execute_result"
    }
   ],
   "source": [
    "arr[1::2,:3:2]"
   ]
  },
  {
   "cell_type": "code",
   "execution_count": 18,
   "id": "0399f6a8-3987-461d-abf5-481f2bbd204d",
   "metadata": {},
   "outputs": [
    {
     "name": "stdout",
     "output_type": "stream",
     "text": [
      "elements greater than 0:\n",
      " [2.  3.  4.  4.  6.  2.6 6.  3.  4.  2. ]\n"
     ]
    }
   ],
   "source": [
    "#bolean array indexing \n",
    "condition = arr > 0\n",
    "temp = arr[condition]\n",
    "print(\"elements greater than 0:\\n\",temp)"
   ]
  },
  {
   "cell_type": "code",
   "execution_count": 19,
   "id": "c51c928e-570f-4ccf-85a3-455717bc69df",
   "metadata": {},
   "outputs": [
    {
     "name": "stdout",
     "output_type": "stream",
     "text": [
      "adding 1: [2 3 6 4]\n",
      "subtract 3: [-2 -1  2  0]\n",
      "multiplying each element by 10: [10 20 50 30]\n",
      "squaring elements: [ 1  4 25  9]\n",
      "doubled each element of original array: [ 2  4 10  6]\n",
      "\n",
      "original array:\n",
      " [[1 2 3]\n",
      " [4 5 6]\n",
      " [7 8 9]]\n",
      "Transpose array:\n",
      " [[1 4 7]\n",
      " [2 5 8]\n",
      " [3 6 9]]\n"
     ]
    }
   ],
   "source": [
    " a = np.array([1,2,5,3])\n",
    "\n",
    "#add 1 to every element\n",
    "print(\"adding 1:\",a+1)\n",
    "\n",
    "#subtract 3 from elements\n",
    "print(\"subtract 3:\",a-3)\n",
    "\n",
    "#multiply each element by 10\n",
    "print(\"multiplying each element by 10:\",a*10)\n",
    "\n",
    "#squaring each element\n",
    "print(\"squaring elements:\",a**2)\n",
    "\n",
    "#modify existing array\n",
    "a *= 2\n",
    "print(\"doubled each element of original array:\",a)\n",
    "\n",
    "#transpose of array\n",
    "a = np.array([[1,2,3],[4,5,6],[7,8,9]])\n",
    "print(\"\\noriginal array:\\n\",a)\n",
    "print(\"Transpose array:\\n\",a.T)"
   ]
  },
  {
   "cell_type": "code",
   "execution_count": 20,
   "id": "31ed7705-3046-4549-b990-ab1d77328d63",
   "metadata": {},
   "outputs": [
    {
     "name": "stdout",
     "output_type": "stream",
     "text": [
      "Largest element is: 9\n",
      "row-wise maximum element: [6 7 9]\n",
      "column-wise maximum element: [4 7 9]\n"
     ]
    }
   ],
   "source": [
    "arr = np.array([[1,5,6],\n",
    "               [4,7,2],\n",
    "                [3,1,9]])\n",
    "#maximum elements of array\n",
    "print(\"Largest element is:\",arr.max())\n",
    "print(\"row-wise maximum element:\",arr.max(axis = 1))\n",
    "\n",
    "#minimum element of arrat\n",
    "print(\"column-wise maximum element:\",arr.max(axis = 0))\n"
   ]
  },
  {
   "cell_type": "code",
   "execution_count": 22,
   "id": "caaf4d95-0248-4ee9-83d3-ff117cee01c2",
   "metadata": {},
   "outputs": [
    {
     "name": "stdout",
     "output_type": "stream",
     "text": [
      "sum of all array element: 38\n",
      "cumulative sum of all array element:\n",
      " [[ 1  6 12]\n",
      " [ 4 11 13]\n",
      " [ 3  4 13]]\n"
     ]
    }
   ],
   "source": [
    "#sum of array elements\n",
    "print(\"sum of all array element:\",arr.sum())\n",
    "\n",
    "#cumulative sum along each row\n",
    "print(\"cumulative sum of all array element:\\n\",arr.cumsum(axis = 1))\n",
    "\n"
   ]
  },
  {
   "cell_type": "code",
   "execution_count": 23,
   "id": "40f61129-739e-4cc9-8b95-6be22a106eb1",
   "metadata": {},
   "outputs": [
    {
     "name": "stdout",
     "output_type": "stream",
     "text": [
      "array sum :\n",
      " [[5 5]\n",
      " [5 5]]\n",
      "array multiplication:\n",
      " [[4 6]\n",
      " [6 4]]\n",
      "matrix multiplication:\n",
      " [[ 8  5]\n",
      " [20 13]]\n"
     ]
    }
   ],
   "source": [
    "a = np.array([[1,2],\n",
    "              [3,4]])\n",
    "b = np.array([[4,3],\n",
    "              [2,1]])\n",
    "\n",
    "#adding two array\n",
    "print(\"array sum :\\n\",a+b)\n",
    "\n",
    "#multiply array elementwise multiplication\n",
    "print(\"array multiplication:\\n\",a*b)\n",
    "\n",
    "#matrix multiplication\n",
    "print(\"matrix multiplication:\\n\",a.dot(b))"
   ]
  },
  {
   "cell_type": "code",
   "execution_count": 25,
   "id": "3058b303-b553-4957-aca2-7257cd25dd01",
   "metadata": {},
   "outputs": [
    {
     "name": "stdout",
     "output_type": "stream",
     "text": [
      "exponent of array elements: [ 1.          2.71828183  7.3890561  20.08553692]\n",
      "square root : [0.         1.         1.41421356 1.73205081]\n"
     ]
    }
   ],
   "source": [
    "#create array of sine value\n",
    "# a = np.array([0,np.pi/2,np.pi])\n",
    "# print(\"sine values :\", np.sine(a))\n",
    "\n",
    "#exponential values\n",
    "a = np.array([0,1,2,3])\n",
    "print(\"exponent of array elements:\",np.exp(a))\n",
    "\n",
    "#square root \n",
    "print(\"square root :\",np.sqrt(a))"
   ]
  },
  {
   "cell_type": "markdown",
   "id": "c5c0ce86-7699-48e6-99de-e2c423806212",
   "metadata": {},
   "source": [
    "# Sorting array"
   ]
  },
  {
   "cell_type": "code",
   "execution_count": 26,
   "id": "823e4090-b53b-48a9-9f1d-091960b47423",
   "metadata": {},
   "outputs": [
    {
     "name": "stdout",
     "output_type": "stream",
     "text": [
      "sorted array:\n",
      " [-1  0  1  2  3  4  4  5  6]\n",
      "row-wise sorted array:\n",
      " [[ 1  2  4]\n",
      " [ 3  4  6]\n",
      " [-1  0  5]]\n",
      "column wise sort by applying merge-sort:\n",
      " [[ 0 -1  2]\n",
      " [ 1  4  5]\n",
      " [ 3  4  6]]\n"
     ]
    }
   ],
   "source": [
    "a = np.array([[1,4,2],\n",
    "              [3,4,6],\n",
    "              [0,-1,5]])\n",
    "#sorted array \n",
    "print(\"sorted array:\\n\",np.sort(a,axis = None))\n",
    "\n",
    "#sort row-wise\n",
    "print(\"row-wise sorted array:\\n\",np.sort(a,axis = 1))\n",
    "\n",
    "#specify sort algorithm\n",
    "print(\"column wise sort by applying merge-sort:\\n\",np.sort(a,axis =0 ,kind = 'mergesort'))"
   ]
  },
  {
   "cell_type": "markdown",
   "id": "6d7b2875-d0ea-465f-96eb-8c2b854e8071",
   "metadata": {},
   "source": [
    "# Stacking and splitting"
   ]
  },
  {
   "cell_type": "code",
   "execution_count": 28,
   "id": "adc40c93-2101-4d7c-85df-fe03dea2054e",
   "metadata": {},
   "outputs": [
    {
     "name": "stdout",
     "output_type": "stream",
     "text": [
      "Vertical stacking:\n",
      " [[1 2]\n",
      " [3 4]\n",
      " [5 6]\n",
      " [7 8]]\n",
      "\n",
      "Horizontal stacking:\n",
      " [[1 2 5 6]\n",
      " [3 4 7 8]]\n",
      "\n",
      " column stacking:\n",
      " [[1 2 5]\n",
      " [3 4 6]]\n"
     ]
    }
   ],
   "source": [
    "a = np.array([[1,2],\n",
    "              [3,4]])\n",
    "b = np.array([[5,6],\n",
    "              [7,8]])\n",
    "#vertical stacking \n",
    "print(\"Vertical stacking:\\n\",np.vstack((a,b)))\n",
    "\n",
    "#horizontal stacking\n",
    "print(\"\\nHorizontal stacking:\\n\",np.hstack((a,b)))\n",
    "\n",
    "c = [5,6]\n",
    "#stacking columns\n",
    "print(\"\\n column stacking:\\n\", np.column_stack((a,c)))\n"
   ]
  },
  {
   "cell_type": "code",
   "execution_count": 29,
   "id": "8456fa4e-3394-4db5-9206-becaf1d1ae23",
   "metadata": {},
   "outputs": [
    {
     "name": "stdout",
     "output_type": "stream",
     "text": [
      "concatenating to 2nd axis:\n",
      " [[1 2 5 6]\n",
      " [3 4 7 8]]\n"
     ]
    }
   ],
   "source": [
    "#concatenation method\n",
    "print(\"concatenating to 2nd axis:\\n\",np.concatenate((a,b),1))"
   ]
  },
  {
   "cell_type": "code",
   "execution_count": 30,
   "id": "5acd448e-91cb-47a1-9f33-75b7a23b6acb",
   "metadata": {},
   "outputs": [
    {
     "name": "stdout",
     "output_type": "stream",
     "text": [
      "splitting along horizontal axis into 2 parts:\n",
      " [array([[1, 2, 3],\n",
      "       [2, 5, 8]]), array([[4, 5, 6],\n",
      "       [9, 7, 4]])]\n",
      "\n",
      "splitting along vertical axis into 2 parts:\n",
      " [array([[1, 2, 3, 4, 5, 6]]), array([[2, 5, 8, 9, 7, 4]])]\n"
     ]
    }
   ],
   "source": [
    "a = np.array([[1,2,3,4,5,6],\n",
    "              [2,5,8,9,7,4]])\n",
    "#horizontal splitting\n",
    "print(\"splitting along horizontal axis into 2 parts:\\n\",np.hsplit(a,2))\n",
    "\n",
    "#vertical splitting\n",
    "print(\"\\nsplitting along vertical axis into 2 parts:\\n\",np.vsplit(a,2))\n",
    "             \n"
   ]
  },
  {
   "cell_type": "code",
   "execution_count": null,
   "id": "6f9678d8-3ee9-4cbb-ad09-d0687e68dc99",
   "metadata": {},
   "outputs": [],
   "source": []
  }
 ],
 "metadata": {
  "kernelspec": {
   "display_name": "Python 3 (ipykernel)",
   "language": "python",
   "name": "python3"
  },
  "language_info": {
   "codemirror_mode": {
    "name": "ipython",
    "version": 3
   },
   "file_extension": ".py",
   "mimetype": "text/x-python",
   "name": "python",
   "nbconvert_exporter": "python",
   "pygments_lexer": "ipython3",
   "version": "3.12.4"
  }
 },
 "nbformat": 4,
 "nbformat_minor": 5
}
